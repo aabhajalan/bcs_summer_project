{
 "cells": [
  {
   "cell_type": "code",
   "execution_count": 1,
   "id": "bb662221",
   "metadata": {},
   "outputs": [],
   "source": [
    "import nibabel as nib       #read/write access to some common neuroimaging fomrates like NIFTI1\n",
    "import numpy as np\n",
    "import pandas as pd\n",
    "import matplotlib.pyplot as plt\n",
    "import pydicom as dicom\n",
    "import random\n",
    "import itk      # Jupyter widgets to visualize images in 2D and 3D\n",
    "import itkwidgets\n",
    "from ipywidgets import interact, interactive, IntSlider, ToggleButtons \n"
   ]
  },
  {
   "cell_type": "markdown",
   "id": "091b44c9",
   "metadata": {},
   "source": [
    "Read and load images"
   ]
  },
  {
   "cell_type": "code",
   "execution_count": 2,
   "id": "afe0a8e1",
   "metadata": {},
   "outputs": [],
   "source": [
    "#loading nifti1 image \n",
    "image_nii=nib.load('../ass2/data/sub-62038_ses-1_acq-t1csmp2ragesag06mmUNIDEN_T1w.nii')\n",
    "\n",
    "#loading a dicom slice of different dataset\n",
    "image_dicom=dicom.dcmread('../ass2/dcm_data/image-00100.dcm')\n",
    "\n"
   ]
  },
  {
   "cell_type": "markdown",
   "id": "a107cff9",
   "metadata": {},
   "source": [
    "reading metadata from dicom image"
   ]
  },
  {
   "cell_type": "code",
   "execution_count": 9,
   "id": "96e70cd1",
   "metadata": {},
   "outputs": [
    {
     "name": "stdout",
     "output_type": "stream",
     "text": [
      "(0008,0005) - Specific Character Set : ISO_IR 100\n",
      "(0008,0008) - Image Type : ['ORIGINAL', 'PRIMARY', 'AXIAL', 'HELIX']\n",
      "(0008,0012) - Instance Creation Date : 20061012\n",
      "(0008,0013) - Instance Creation Time : 091632.000000\n",
      "(0008,0016) - SOP Class UID : 1.2.840.10008.5.1.4.1.1.2\n",
      "(0008,0018) - SOP Instance UID : 1.2.826.0.1.3680043.8.1055.1.20111102150817669.41237978.47338332\n",
      "(0008,0020) - Study Date : 20061012\n",
      "(0008,0022) - Acquisition Date : 20061012\n",
      "(0008,0023) - Content Date : 20061012\n",
      "(0008,0030) - Study Time : 090258.000000\n",
      "(0008,0032) - Acquisition Time : 085229.000000\n",
      "(0008,0033) - Content Time : 085232.844002\n",
      "(0008,0060) - Modality : CT\n",
      "(0008,1030) - Study Description : CT1 abdomen\n",
      "(0008,1032) - Procedure Code Sequence : [(0008,0100) Code Value                          SH: 'CTABDOM'\n",
      "(0008,0102) Coding Scheme Designator            SH: 'XPLORE'\n",
      "(0008,0104) Code Meaning                        LO: 'CT1 abdomen']\n",
      "(0008,103E) - Series Description : ARTERIELLE\n",
      "(0008,1111) - Referenced Performed Procedure Step Sequence : [(0008,1150) Referenced SOP Class UID            UI: Modality Performed Procedure Step SOP Class\n",
      "(0008,1155) Referenced SOP Instance UID         UI: 1.2.840.113704.1.111.5104.1160636572.51]\n",
      "(0010,0010) - Patient's Name : Anonymized\n",
      "(0010,0020) - Patient ID : 0\n",
      "(0010,1010) - Patient's Age : 000Y\n",
      "(0018,0010) - Contrast/Bolus Agent : CONTRAST\n",
      "(0018,0022) - Scan Options : HELIX\n",
      "(0018,0050) - Slice Thickness : 1.0\n",
      "(0018,0060) - KVP : 120\n",
      "(0018,0088) - Spacing Between Slices : 0.5\n",
      "(0018,0090) - Data Collection Diameter : 302\n",
      "(0018,1030) - Protocol Name : ART.RENALES 12/Abdomen/Hx\n",
      "(0018,1100) - Reconstruction Diameter : 302\n",
      "(0018,1120) - Gantry/Detector Tilt : 0\n",
      "(0018,1130) - Table Height : 151\n",
      "(0018,1140) - Rotation Direction : CW\n",
      "(0018,1151) - X-Ray Tube Current : 400\n",
      "(0018,1152) - Exposure : 300\n",
      "(0018,1160) - Filter Type : B\n",
      "(0018,1210) - Convolution Kernel : B\n",
      "(0018,5100) - Patient Position : FFS\n",
      "(0020,000D) - Study Instance UID : 1.2.826.0.1.3680043.8.1055.1.20111102150758591.92402465.76095170\n",
      "(0020,000E) - Series Instance UID : 1.2.826.0.1.3680043.8.1055.1.20111102150758591.96842950.07877442\n",
      "(0020,0011) - Series Number : 6168\n",
      "(0020,0013) - Instance Number : 101\n",
      "(0020,0032) - Image Position (Patient) : [-151.493508, -36.6564417, 1245]\n",
      "(0020,0037) - Image Orientation (Patient) : [1, 0, 0, 0, 1, 0]\n",
      "(0020,0052) - Frame of Reference UID : 1.2.840.113704.1.111.3704.1160637109.3\n",
      "(0020,1041) - Slice Location : -275.00\n",
      "(0020,4000) - Image Comments : JPEG 2000 lossless - Version 4.0.2 (c) Image Devices GmbH\n",
      "(0028,0002) - Samples per Pixel : 1\n",
      "(0028,0004) - Photometric Interpretation : MONOCHROME2\n",
      "(0028,0010) - Rows : 512\n",
      "(0028,0011) - Columns : 512\n",
      "(0028,0030) - Pixel Spacing : [0.58984375, 0.58984375]\n",
      "(0028,0100) - Bits Allocated : 16\n",
      "(0028,0101) - Bits Stored : 12\n",
      "(0028,0102) - High Bit : 11\n",
      "(0028,0103) - Pixel Representation : 0\n",
      "(0028,1050) - Window Center : [00050, 00050]\n",
      "(0028,1051) - Window Width : [00350, 00350]\n",
      "(0028,1052) - Rescale Intercept : -1000\n",
      "(0028,1053) - Rescale Slope : 1\n",
      "(0028,2110) - Lossy Image Compression : 01\n",
      "(0028,2112) - Lossy Image Compression Ratio : 5.553193\n",
      "(0040,0007) - Scheduled Procedure Step Description : CT1 abdomen\n",
      "(0040,0008) - Scheduled Protocol Code Sequence : [(0008,0100) Code Value                          SH: 'CTABDOM'\n",
      "(0008,0102) Coding Scheme Designator            SH: 'XPLORE'\n",
      "(0008,0104) Code Meaning                        LO: 'CT1 abdomen']\n",
      "(0040,0009) - Scheduled Procedure Step ID : A10026177758\n",
      "(0040,0254) - Performed Procedure Step Description : CT1 abdomen\n",
      "(0040,0260) - Performed Protocol Code Sequence : [(0008,0100) Code Value                          SH: 'CTABDOM'\n",
      "(0008,0102) Coding Scheme Designator            SH: 'XPLORE'\n",
      "(0008,0104) Code Meaning                        LO: 'CT1 abdomen']\n",
      "(0040,0275) - Request Attributes Sequence : [(0040,0007) Scheduled Procedure Step Descriptio LO: 'CT1 abdomen'\n",
      "(0040,0008)  Scheduled Protocol Code Sequence  1 item(s) ---- \n",
      "   (0008,0100) Code Value                          SH: 'CTABDOM'\n",
      "   (0008,0102) Coding Scheme Designator            SH: 'XPLORE'\n",
      "   (0008,0104) Code Meaning                        LO: 'CT1 abdomen'\n",
      "   ---------\n",
      "(0040,0009) Scheduled Procedure Step ID         SH: 'A10026177758'\n",
      "(0040,1001) Requested Procedure ID              SH: 'A10026177757']\n",
      "(0040,1001) - Requested Procedure ID : A10026177757\n"
     ]
    }
   ],
   "source": [
    "for el in image_dicom:\n",
    "    if el.name != \"Pixel Data\":\n",
    "        print(f\"{el.tag} - {el.name} : {el.value}\")\n",
    "#image_dicom=image_dicom.pixel_array"
   ]
  },
  {
   "cell_type": "markdown",
   "id": "4e1d737e",
   "metadata": {},
   "source": [
    "internal structure of NIFTI1"
   ]
  },
  {
   "cell_type": "code",
   "execution_count": 4,
   "id": "d7d432cb",
   "metadata": {},
   "outputs": [
    {
     "name": "stdout",
     "output_type": "stream",
     "text": [
      "<class 'nibabel.nifti1.Nifti1Header'> object, endian='<'\n",
      "sizeof_hdr      : 348\n",
      "data_type       : np.bytes_(b'')\n",
      "db_name         : np.bytes_(b'')\n",
      "extents         : 0\n",
      "session_error   : 0\n",
      "regular         : np.bytes_(b'r')\n",
      "dim_info        : 54\n",
      "dim             : [  3 256 362 384   1   1   1   1]\n",
      "intent_p1       : 0.0\n",
      "intent_p2       : 0.0\n",
      "intent_p3       : 0.0\n",
      "intent_code     : none\n",
      "datatype        : int16\n",
      "bitpix          : 16\n",
      "slice_start     : 0\n",
      "pixdim          : [1.    0.63  0.625 0.625 6.    0.    0.    0.   ]\n",
      "vox_offset      : 0.0\n",
      "scl_slope       : nan\n",
      "scl_inter       : nan\n",
      "slice_end       : 0\n",
      "slice_code      : unknown\n",
      "xyzt_units      : 10\n",
      "cal_max         : 0.0\n",
      "cal_min         : 0.0\n",
      "slice_duration  : 0.0\n",
      "toffset         : 0.0\n",
      "glmax           : 0\n",
      "glmin           : 0\n",
      "descrip         : np.bytes_(b'TE=2.1;Time=132725.145;phase=1')\n",
      "aux_file        : np.bytes_(b'Denoised Image (lambda ')\n",
      "qform_code      : scanner\n",
      "sform_code      : scanner\n",
      "quatern_b       : -0.047692526\n",
      "quatern_c       : -0.02438365\n",
      "quatern_d       : 0.011826501\n",
      "qoffset_x       : -73.60541\n",
      "qoffset_y       : -100.07335\n",
      "qoffset_z       : -119.99019\n",
      "srow_x          : [ 6.2907416e-01 -1.3307221e-02 -3.1138716e-02 -7.3605408e+01]\n",
      "srow_y          : [ 1.6344221e-02  6.2198198e-01  5.9165433e-02 -1.0007335e+02]\n",
      "srow_z          : [ 2.9966434e-02 -5.9886366e-02  6.2141359e-01 -1.1999019e+02]\n",
      "intent_name     : np.bytes_(b'')\n",
      "magic           : np.bytes_(b'n+1')\n",
      "\n",
      "height: 256, width: 362, depth: 384\n",
      "\n",
      "affine transformation matrix:\n",
      "[[ 6.29074156e-01 -1.33072212e-02 -3.11387163e-02 -7.36054077e+01]\n",
      " [ 1.63442213e-02  6.21981978e-01  5.91654330e-02 -1.00073349e+02]\n",
      " [ 2.99664345e-02 -5.98863661e-02  6.21413589e-01 -1.19990189e+02]\n",
      " [ 0.00000000e+00  0.00000000e+00  0.00000000e+00  1.00000000e+00]]\n",
      "\n",
      "voxel spacing:  0.63 0.625 0.625\n"
     ]
    }
   ],
   "source": [
    "header=image_nii.header\n",
    "print(header)\n",
    "print()\n",
    "\n",
    "#gets the shape of the image\n",
    "height, width, depth= image_nii.get_fdata().shape\n",
    "print(f\"height: {height}, width: {width}, depth: {depth}\" )\n",
    "print()\n",
    "\n",
    "#affine matrix\n",
    "print(f\"affine transformation matrix:\")\n",
    "affine=image_nii.affine\n",
    "print(image_nii.affine)\n",
    "print()\n",
    "\n",
    "#voxel spacing (x_spacing, y_spacing, z_spacing)\n",
    "voxel_spacing=header.get_zooms()\n",
    "print(f\"voxel spacing: \",*voxel_spacing)\n"
   ]
  },
  {
   "cell_type": "markdown",
   "id": "29bfd820",
   "metadata": {},
   "source": [
    "stacking dicom images"
   ]
  },
  {
   "cell_type": "code",
   "execution_count": 5,
   "id": "7c848be3",
   "metadata": {},
   "outputs": [
    {
     "name": "stdout",
     "output_type": "stream",
     "text": [
      "3D array's shape:  (361, 512, 512)\n"
     ]
    }
   ],
   "source": [
    "import os\n",
    "\n",
    "def stacking(directory_path):\n",
    "    dicom_files=[dicom.dcmread(os.path.join(directory_path,f)) \n",
    "                 for f in os.listdir(directory_path)]\n",
    "    \n",
    "    #to decide along what direction the slices have been made\n",
    "    def normal_to_slice(ds):\n",
    "        iop=[float(v) for v in ds.ImageOrientationPatient]\n",
    "        row_dir=np.array(iop[0:3])\n",
    "        col_dir=np.array(iop[3:6])\n",
    "        normal=np.cross(row_dir, col_dir)\n",
    "        return normal\n",
    "    positions = [np.dot(normal_to_slice(ds),ds.ImagePositionPatient) for ds in dicom_files]\n",
    "    \n",
    "    #sorting the files based on the dot product of the top-most left point coordinates and the vector perpendicular to the plane of the image\n",
    "    dicom_files.sort(key=lambda x:positions)\n",
    "\n",
    "    #stacking the images\n",
    "    image_stack=np.stack([ds.pixel_array for ds in dicom_files], axis=0)\n",
    "    return image_stack\n",
    "\n",
    "directory='../ass2/dcm_data'\n",
    "volume_3d=stacking(directory)\n",
    "\n",
    "print(\"3D array's shape: \", volume_3d.shape)"
   ]
  },
  {
   "cell_type": "markdown",
   "id": "0a6e6dfb",
   "metadata": {},
   "source": [
    "Visualization of slices in different planes"
   ]
  },
  {
   "cell_type": "code",
   "execution_count": 6,
   "id": "d8944e6e",
   "metadata": {},
   "outputs": [
    {
     "data": {
      "application/vnd.jupyter.widget-view+json": {
       "model_id": "a852570b370a47f0b78ad07bee7d63ae",
       "version_major": 2,
       "version_minor": 0
      },
      "text/plain": [
       "interactive(children=(IntSlider(value=191, description='layer', max=383), Output()), _dom_classes=('widget-int…"
      ]
     },
     "metadata": {},
     "output_type": "display_data"
    },
    {
     "data": {
      "application/vnd.jupyter.widget-view+json": {
       "model_id": "10073d45c5154951bcfcff527d39ff35",
       "version_major": 2,
       "version_minor": 0
      },
      "text/plain": [
       "interactive(children=(IntSlider(value=127, description='layer2', max=255), Output()), _dom_classes=('widget-in…"
      ]
     },
     "metadata": {},
     "output_type": "display_data"
    },
    {
     "data": {
      "application/vnd.jupyter.widget-view+json": {
       "model_id": "0a844cae05ed4465ac0af11896a427c1",
       "version_major": 2,
       "version_minor": 0
      },
      "text/plain": [
       "interactive(children=(IntSlider(value=180, description='layer3', max=361), Output()), _dom_classes=('widget-in…"
      ]
     },
     "metadata": {},
     "output_type": "display_data"
    }
   ],
   "source": [
    "import scipy.ndimage as ndi\n",
    "def axial_layer(layer):\n",
    "    plt.figure(figsize=(10,5))\n",
    "    plt.title(f\"Axial layer {layer}\")\n",
    "    plt.imshow(ndi.rotate(image_nii.get_fdata()[:,:,layer],90), cmap='bone')\n",
    "    #plt.imshow(image_nii.get_fdata()[:,:,layer],cmap='bone', origin='lower')\n",
    "    plt.axis('off')\n",
    "    return layer\n",
    "interact(axial_layer, layer=(0,depth-1));\n",
    "\n",
    "def saggital_layer(layer2):\n",
    "    plt.figure(figsize=(10,5))\n",
    "    plt.title(f\"Saggital layer {layer2}\")\n",
    "    plt.imshow(ndi.rotate(image_nii.get_fdata()[layer2,:,:],90), cmap='bone')\n",
    "    plt.axis('off')\n",
    "    return layer2\n",
    "interact(saggital_layer, layer2=(0,height-1));\n",
    "\n",
    "def coronal_layer(layer3):\n",
    "    plt.figure(figsize=(10,5))\n",
    "    plt.title(f\"Coronal layer {layer3}\")\n",
    "    plt.imshow(ndi.rotate(image_nii.get_fdata()[:,layer3,:],90), cmap='bone')\n",
    "    plt.axis('off')\n",
    "    return layer3\n",
    "interact(coronal_layer, layer3=(0,width-1));"
   ]
  },
  {
   "cell_type": "markdown",
   "id": "a042b4c5",
   "metadata": {},
   "source": [
    "image orientation for nifti"
   ]
  },
  {
   "cell_type": "code",
   "execution_count": 10,
   "id": "e450c23a",
   "metadata": {},
   "outputs": [
    {
     "name": "stdout",
     "output_type": "stream",
     "text": [
      "('R', 'A', 'S')\n",
      "Voxel sizes (x,y,z):  [0.62999954 0.62500003 0.62500001]\n",
      "Direction vectors:\n",
      "[[ 0.99853114 -0.02129155 -0.04982194]\n",
      " [ 0.02594323  0.99517111  0.09466469]\n",
      " [ 0.0475658  -0.09581818  0.99426172]]\n",
      "Image origin: [ -73.60540771 -100.073349   -119.9901886 ]\n"
     ]
    }
   ],
   "source": [
    "from nibabel.orientations import aff2axcodes\n",
    "\n",
    "#printing orientation codes\n",
    "affine=image_nii.affine\n",
    "print(aff2axcodes(affine))\n",
    "\n",
    "#voxel size\n",
    "voxel_size=np.linalg.norm(affine[:3,:3],axis=0)\n",
    "print(\"Voxel sizes (x,y,z): \",voxel_size)\n",
    "\n",
    "#unit vectors along image axes (each column of affine matrix is unit drection vector for corresponding image axis)\n",
    "directions = affine[:3,:3]/voxel_size\n",
    "print(\"Direction vectors:\")\n",
    "print(directions)\n",
    "\n",
    "#image origin\n",
    "print(\"Image origin:\", affine[:3,3])\n",
    "\n"
   ]
  },
  {
   "cell_type": "markdown",
   "id": "39fbd405",
   "metadata": {},
   "source": [
    "orientation handling in dicom "
   ]
  },
  {
   "cell_type": "code",
   "execution_count": 12,
   "id": "261780cc",
   "metadata": {},
   "outputs": [
    {
     "name": "stdout",
     "output_type": "stream",
     "text": [
      "Affine matrix:\n",
      "[[ 5.89843750e-01  0.00000000e+00  0.00000000e+00 -1.51493508e+02]\n",
      " [ 0.00000000e+00  5.89843750e-01  0.00000000e+00 -3.66564417e+01]\n",
      " [ 0.00000000e+00  0.00000000e+00  1.00000000e+00  1.24500000e+03]\n",
      " [ 0.00000000e+00  0.00000000e+00  0.00000000e+00  1.00000000e+00]]\n"
     ]
    }
   ],
   "source": [
    "#plt.imshow(image_dicom, cmap='gray')\n",
    "#ImageOrientationPatient gives the unti vectors for row direction and column direction\n",
    "#[Rx,Ry,Rz,Cx,Cy,Cz], these are in patient-based coordinates, ie, X: Left to Right, Y: Posterior to Anterior, Z: Inferior to Superior\n",
    "#so[1,0,0,0,1,0] means, row vector [1,0,0] -> direction along axis 1(column) -> along X (Left to Right) axis\n",
    "\n",
    "#imagepositionpatient gives the real-world coordinates of the upper-left most corner of the image \n",
    "\n",
    "ds=image_dicom\n",
    "orientation=ds.ImageOrientationPatient\n",
    "position= ds.ImagePositionPatient        \n",
    "pixel_spacing = ds.PixelSpacing       \n",
    "row_dir=np.array(orientation[0:3])\n",
    "col_dir=np.array(orientation[3:6])\n",
    "normal=np.cross(row_dir,col_dir)\n",
    "spacing=np.array([pixel_spacing[1],pixel_spacing[0],1.0])\n",
    "or_matrix=np.stack([row_dir, col_dir, normal], axis=1) * spacing\n",
    "affine = np.eye(4)\n",
    "affine[:3,:3]=or_matrix\n",
    "affine[:3,3]=position\n",
    "print(\"Affine matrix:\")\n",
    "print(affine)\n"
   ]
  },
  {
   "cell_type": "code",
   "execution_count": null,
   "id": "e1ca0021",
   "metadata": {},
   "outputs": [],
   "source": []
  }
 ],
 "metadata": {
  "kernelspec": {
   "display_name": "Python 3",
   "language": "python",
   "name": "python3"
  },
  "language_info": {
   "codemirror_mode": {
    "name": "ipython",
    "version": 3
   },
   "file_extension": ".py",
   "mimetype": "text/x-python",
   "name": "python",
   "nbconvert_exporter": "python",
   "pygments_lexer": "ipython3",
   "version": "3.12.5"
  }
 },
 "nbformat": 4,
 "nbformat_minor": 5
}
